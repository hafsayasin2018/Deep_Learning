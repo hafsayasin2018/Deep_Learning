{
 "cells": [
  {
   "cell_type": "markdown",
   "id": "6bbcbffd",
   "metadata": {},
   "source": [
    "## Import libraries:"
   ]
  },
  {
   "cell_type": "code",
   "execution_count": 10,
   "id": "341ff331",
   "metadata": {},
   "outputs": [],
   "source": [
    "from keras.models import Sequential\n",
    "from keras.layers import Dense\n",
    "import numpy as np\n",
    "from sklearn.datasets import make_blobs\n",
    "from sklearn.preprocessing import MinMaxScaler\n"
   ]
  },
  {
   "cell_type": "markdown",
   "id": "e4295c79",
   "metadata": {},
   "source": [
    "## Load dataset:"
   ]
  },
  {
   "cell_type": "code",
   "execution_count": 14,
   "id": "4c10991b",
   "metadata": {},
   "outputs": [
    {
     "data": {
      "text/plain": [
       "<keras.callbacks.History at 0x7f0614194760>"
      ]
     },
     "execution_count": 14,
     "metadata": {},
     "output_type": "execute_result"
    }
   ],
   "source": [
    "# generate 2d classification dataset\n",
    "X, y = make_blobs(n_samples=500, centers=2, n_features=2, random_state=1)\n",
    "scalar = MinMaxScaler()\n",
    "scalar.fit(X)\n",
    "X = scalar.transform(X)\n",
    "# define and fit the final model\n",
    "model = Sequential()\n",
    "model.add(Dense(4, input_shape=(2,), activation='relu'))\n",
    "model.add(Dense(4, activation='relu'))\n",
    "model.add(Dense(1, activation='sigmoid'))\n",
    "model.compile(loss='binary_crossentropy', optimizer='adam')\n",
    "model.fit(X, y, epochs=300, verbose=0)"
   ]
  },
  {
   "cell_type": "markdown",
   "id": "8e4fe811",
   "metadata": {},
   "source": [
    "## Types_of_Prediction:\n",
    "## 1. Class prediction"
   ]
  },
  {
   "cell_type": "code",
   "execution_count": 29,
   "id": "d93cfa43",
   "metadata": {},
   "outputs": [],
   "source": [
    "# new instances \n",
    "Xnew, _ = make_blobs(n_samples=5, centers=2, n_features=2, random_state=1)\n",
    "Xnew = scalar.transform(Xnew)"
   ]
  },
  {
   "cell_type": "code",
   "execution_count": 30,
   "id": "1effb1cc",
   "metadata": {},
   "outputs": [
    {
     "name": "stdout",
     "output_type": "stream",
     "text": [
      "1/1 [==============================] - 0s 15ms/step\n"
     ]
    }
   ],
   "source": [
    "ynew = (model.predict(Xnew) > 0.5).astype(\"int32\")"
   ]
  },
  {
   "cell_type": "code",
   "execution_count": 31,
   "id": "ae3f7767",
   "metadata": {},
   "outputs": [
    {
     "name": "stdout",
     "output_type": "stream",
     "text": [
      "X=[0.31310705 0.05373859], Predicted=[1]\n",
      "X=[0.23385262 0.18688147], Predicted=[1]\n",
      "X=[0.84985902 0.6506738 ], Predicted=[0]\n",
      "X=[0.91083232 0.7639318 ], Predicted=[0]\n",
      "X=[0.75323548 0.74100849], Predicted=[0]\n"
     ]
    }
   ],
   "source": [
    "# show the inputs and predicted outputs\n",
    "for i in range(len(Xnew)):\n",
    " print(\"X=%s, Predicted=%s\" % (Xnew[i], ynew[i]))"
   ]
  },
  {
   "cell_type": "markdown",
   "id": "cd0ac575",
   "metadata": {},
   "source": [
    "\n",
    "## 2. Probability prediction"
   ]
  },
  {
   "cell_type": "code",
   "execution_count": 33,
   "id": "7e853474",
   "metadata": {},
   "outputs": [
    {
     "name": "stdout",
     "output_type": "stream",
     "text": [
      "1/1 [==============================] - 0s 17ms/step\n"
     ]
    }
   ],
   "source": [
    "#ynew = (model.predict_proba(Xnew) > 0.5).astype(\"int32\")\n",
    "ynew = model.predict(Xnew)"
   ]
  },
  {
   "cell_type": "code",
   "execution_count": 34,
   "id": "2981c5be",
   "metadata": {},
   "outputs": [
    {
     "name": "stdout",
     "output_type": "stream",
     "text": [
      "X=[0.31310705 0.05373859], Predicted=[0.99994195]\n",
      "X=[0.23385262 0.18688147], Predicted=[0.9998386]\n",
      "X=[0.84985902 0.6506738 ], Predicted=[0.03817816]\n",
      "X=[0.91083232 0.7639318 ], Predicted=[0.03817816]\n",
      "X=[0.75323548 0.74100849], Predicted=[0.03817816]\n"
     ]
    }
   ],
   "source": [
    "# show the inputs and predicted outputs\n",
    "for i in range(len(Xnew)):\n",
    " print(\"X=%s, Predicted=%s\" % (Xnew[i], ynew[i]))"
   ]
  },
  {
   "cell_type": "markdown",
   "id": "6a481380",
   "metadata": {},
   "source": [
    "\n",
    "## 3. Regression prediction"
   ]
  },
  {
   "cell_type": "code",
   "execution_count": 36,
   "id": "96a5a0c7",
   "metadata": {},
   "outputs": [
    {
     "name": "stdout",
     "output_type": "stream",
     "text": [
      "1/1 [==============================] - 0s 27ms/step\n",
      "X=[0.29466096, 0.30317302], Predicted=[0.99875546]\n"
     ]
    }
   ],
   "source": [
    "Xnew = [[0.29466096, 0.30317302]]\n",
    "# make a prediction\n",
    "ynew = model.predict(Xnew)\n",
    "# show the inputs and predicted outputs\n",
    "print(\"X=%s, Predicted=%s\" % (Xnew[0], ynew[0]))"
   ]
  }
 ],
 "metadata": {
  "kernelspec": {
   "display_name": "Python 3 (ipykernel)",
   "language": "python",
   "name": "python3"
  },
  "language_info": {
   "codemirror_mode": {
    "name": "ipython",
    "version": 3
   },
   "file_extension": ".py",
   "mimetype": "text/x-python",
   "name": "python",
   "nbconvert_exporter": "python",
   "pygments_lexer": "ipython3",
   "version": "3.10.6"
  }
 },
 "nbformat": 4,
 "nbformat_minor": 5
}
